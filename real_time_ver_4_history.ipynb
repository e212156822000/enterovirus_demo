{
 "cells": [
  {
   "cell_type": "code",
   "execution_count": 1,
   "metadata": {
    "collapsed": true
   },
   "outputs": [],
   "source": [
    "from bokeh.io import curdoc\n",
    "from bokeh.layouts import column,row\n",
    "from bokeh.models import ColumnDataSource\n",
    "from bokeh.plotting import figure\n",
    "from bokeh.layouts import layout\n",
    "import pandas as pd\n",
    "import numpy as np\n",
    "from bokeh.models import BoxAnnotation\n",
    "from random import randint\n",
    "import json\n",
    "\n",
    "from bokeh.io import show, output_notebook, output_file\n",
    "from bokeh.models import (\n",
    "    GeoJSONDataSource,\n",
    "    HoverTool,\n",
    "    LinearColorMapper,\n",
    "    CategoricalColorMapper,\n",
    "    Button\n",
    ")\n",
    "\n",
    "from bokeh.palettes import Viridis6\n",
    "from bokeh.models.widgets import Tabs, Panel\n",
    "\n",
    "from area_predict import output_res\n"
   ]
  },
  {
   "cell_type": "code",
   "execution_count": 2,
   "metadata": {
    "collapsed": true
   },
   "outputs": [],
   "source": [
    "areas = ['南區','北區','東區','高屏區','台北區','中區']\n",
    "tools = 'pan,wheel_zoom,xbox_select,reset'\n",
    "color_list=['black','red','blue','green','cyan','yellow']\n",
    "observe_list = ['腸病毒總人數','區週平均溫度','平均RH']\n",
    "area_dict = {}\n",
    "\n",
    "\n",
    "hist_dict = {}\n",
    "source_history = ColumnDataSource(data={'x':[],'腸病毒總人數':[],'區週平均溫度':[],'平均RH':[]})\n",
    "\n",
    "\n",
    "hist_fig_dict={}\n",
    "for observe in observe_list:\n",
    "    hist_fig_dict[observe] = figure(plot_width=1000, plot_height=350, tools=tools, x_axis_type='datetime', active_drag=\"xbox_select\")\n",
    "\n",
    "\n",
    "\n"
   ]
  },
  {
   "cell_type": "code",
   "execution_count": 3,
   "metadata": {
    "collapsed": true
   },
   "outputs": [],
   "source": [
    "for idx,area in enumerate(areas):\n",
    "    area_dict[area]={}\n",
    "    hist_dict[area]={}\n",
    "    \n",
    "    area_dict[area]['df'] = pd.read_csv('./data/{}.csv'.format(area))\n",
    "    temp_df = area_dict[area]['df']\n",
    "    \n",
    "    total_people = temp_df['腸病毒總人數'].values\n",
    "    area_dict[area]['total_people'] = total_people\n",
    "    area_dict[area]['DT'] = pd.to_datetime(temp_df['DT'].values)\n",
    "    area_dict[area]['mva'] = temp_df['腸病毒總人數_moving_avg'].fillna(0).values\n",
    "    area_dict[area]['explode'] = temp_df['爆發預測'].fillna(0).values\n",
    "    area_dict[area]['figure'] = figure(plot_width=500, plot_height=120, tools=tools, x_axis_type='datetime',y_range=(0,max(total_people)+20 ), active_drag=\"xbox_select\") \n",
    "    area_dict[area]['figure'].xaxis.axis_label = '日期'\n",
    "    area_dict[area]['figure'].yaxis.axis_label = '腸病毒人數'\n",
    "    area_dict[area]['figure'].toolbar.logo = None\n",
    "    area_dict[area]['figure'].toolbar_location = None\n",
    "    \n",
    "    area_dict[area]['figure'].title.text = area\n",
    "    area_dict[area]['src'] = ColumnDataSource(dict(x=[],y=[],move_avg=[],alpha=[]))\n",
    "    \n",
    "    hist_dict[area]['src'] = ColumnDataSource(data={'x':pd.to_datetime(temp_df['DT'].values),'腸病毒總人數':total_people,'區週平均溫度':temp_df['區週平均溫度'].values,'平均RH':temp_df['平均RH'].values})\n",
    "\n",
    "    \n",
    "    "
   ]
  },
  {
   "cell_type": "code",
   "execution_count": null,
   "metadata": {
    "collapsed": true
   },
   "outputs": [],
   "source": [
    "callback_id = None\n",
    "def animate():\n",
    "    global callback_id\n",
    "    if button.label == '► Play':\n",
    "        button.label = '❚❚ Pause'\n",
    "        callback_id = curdoc().add_periodic_callback(update, 1000)\n",
    "    else:\n",
    "        button.label = '► Play'\n",
    "        curdoc().remove_periodic_callback(callback_id)\n",
    "button = Button(label='❚❚ Pause', width=60)\n",
    "button.on_click(animate)"
   ]
  },
  {
   "cell_type": "code",
   "execution_count": null,
   "metadata": {
    "collapsed": true
   },
   "outputs": [],
   "source": []
  },
  {
   "cell_type": "code",
   "execution_count": 4,
   "metadata": {
    "collapsed": true
   },
   "outputs": [],
   "source": [
    "with open(r'./twgeo_easy_rates.json', 'r') as file:\n",
    "    json_str = file.read()\n",
    "    geo_source = GeoJSONDataSource(geojson=json_str)\n",
    "    twgeo_json = json.loads(json_str)\n",
    "    \n",
    "\n",
    "color_mapper = LinearColorMapper(palette=[\"blue\", \"red\"],high=1,low=0)\n",
    "\n",
    "TOOLS = \"pan,wheel_zoom,box_zoom,reset,hover,save\"\n",
    "\n",
    "p = figure(title=\"Taiwan\", tools=TOOLS, x_axis_location=None, y_axis_location=None, width=600, height=800)\n",
    "p.background_fill_color = 'beige'\n",
    "p.border_fill_color = 'black'\n",
    "p.border_fill_alpha = 0.05\n",
    "p.grid.grid_line_color = None\n",
    "p.toolbar.logo = None\n",
    "p.toolbar_location = None\n",
    "\n",
    "for i in range(22):\n",
    "    if twgeo_json['features'][i]['properties']['explode']==0:\n",
    "        twgeo_json['features'][i]['properties']['line_width'] = 0.5\n",
    "    else:\n",
    "        twgeo_json['features'][i]['properties']['line_width'] = 4\n",
    "\n",
    "geo_source.geojson = json.dumps(twgeo_json)\n",
    "\n",
    "figure_patch = p.patches('xs', 'ys', fill_alpha=0.7,fill_color={'field':'explode','transform':color_mapper},line_color='black', line_width='line_width',source=geo_source)\n",
    "\n",
    "\n",
    "\n",
    "hover = p.select_one(HoverTool)\n",
    "hover.point_policy = \"follow_mouse\"\n",
    "hover.tooltips = [(\"name\", \"@name\"),(\"index\",\"$index\"),(\"(Lon,Lat)\", \"($x, $y)\")]\n",
    "\n",
    "\n",
    "\n",
    "\n"
   ]
  },
  {
   "cell_type": "code",
   "execution_count": 5,
   "metadata": {
    "collapsed": true
   },
   "outputs": [],
   "source": [
    "for idx,area in enumerate(areas):\n",
    "    source = area_dict[area]['src']\n",
    "    source_history = hist_dict[area]['src']\n",
    "    \n",
    "    area_dict[area]['figure'].line(x='x',y='y',color='blue',source=source)\n",
    "    area_dict[area]['figure'].line(x='x',y='move_avg',color='green',source=source)\n",
    "    area_dict[area]['figure'].segment(x0='x', y0='move_avg', x1='x', y1=0, line_width=45, color='red',line_alpha='alpha', source=source)  \n",
    "    \n",
    "    \n",
    "    for observe in observe_list:\n",
    "        hist_fig_dict[observe].line(x='x', y=observe, source = source_history,color=color_list[idx],legend=area,muted_color=color_list[idx])\n",
    "        \n",
    "        \n",
    "for observe in observe_list:\n",
    "    \n",
    "    hist_fig_dict[observe].legend.location = \"top_left\"\n",
    "    hist_fig_dict[observe].legend.click_policy = \"hide\"\n",
    "    hist_fig_dict[observe].xaxis.axis_label = 'Date'\n",
    "    hist_fig_dict[observe].yaxis.axis_label = observe\n",
    "    hist_fig_dict[observe].toolbar.logo = None\n",
    "    hist_fig_dict[observe].toolbar_location = None\n",
    "    "
   ]
  },
  {
   "cell_type": "code",
   "execution_count": 10,
   "metadata": {},
   "outputs": [
    {
     "data": {
      "text/plain": [
       "<bokeh.server.callbacks.PeriodicCallback at 0x1178d6ef0>"
      ]
     },
     "execution_count": 10,
     "metadata": {},
     "output_type": "execute_result"
    }
   ],
   "source": [
    "\n",
    "mva = 0\n",
    "ct=0\n",
    "\n",
    "def update():\n",
    "    global ct,mva\n",
    "\n",
    "    for area in areas:\n",
    "        temp_explodes = area_dict[area]['explode']\n",
    "        temp_explode = temp_explodes[ct]\n",
    "        \n",
    "        \n",
    "        for i in range(22):\n",
    "            if twgeo_json['features'][i]['properties']['area']==area:\n",
    "                twgeo_json['features'][i]['properties']['explode']=temp_explode\n",
    "                if temp_explode==0:\n",
    "                    twgeo_json['features'][i]['properties']['line_width']=0.5\n",
    "                else:\n",
    "                    twgeo_json['features'][i]['properties']['line_width']=4\n",
    "                \n",
    "        moving_avg = area_dict[area]['mva']\n",
    "        dt = area_dict[area]['DT']\n",
    "        total = area_dict[area]['total_people']\n",
    "        alpha = 0 if temp_explode == 0 else 0.2\n",
    "    \n",
    "        new_data = dict( x=[dt[ct]],y= [total[ct]],move_avg = [moving_avg[ct]],alpha=[alpha] )\n",
    "        area_dict[area]['src'].stream(new_data,rollover=20)\n",
    "        \n",
    "        p.title.text = 'Taiwan {}'.format( str(dt[ct])[:-8] )\n",
    "    geo_source.geojson = json.dumps(twgeo_json)\n",
    "    \n",
    "   #     p.patches('xs', 'ys', fill_alpha=0.7,fill_color={'field':'explode','transform':color_mapper},line_color='black', line_width=0.5,source=geo_source) \n",
    "    \n",
    "    ct+=1\n",
    "#     print(source.data)\n",
    "\n",
    "\n",
    "\n",
    "\n",
    "layouts = column([area_dict[area]['figure'] for area in areas ]+[button])\n",
    "layouts = row(layouts,p)\n",
    "\n",
    "# layouts = column(layouts,column([hist_fig_dict[observe] for observe in observe_list]))\n",
    "layouts_b = column([hist_fig_dict[observe] for observe in observe_list])\n",
    "layouts_c = output_res()\n",
    "\n",
    "\n",
    "tabs = Tabs(tabs=[\n",
    "        Panel(title=\"realtime_demo\", child = layouts),\n",
    "        Panel(title=\"predictions\", child = layouts_c),\n",
    "        Panel(title=\"history data\",child = layouts_b)\n",
    "    ])\n",
    "curdoc().add_root(tabs)\n",
    "callback_id = curdoc().add_periodic_callback(update,1000)\n",
    "\n",
    "\n"
   ]
  },
  {
   "cell_type": "code",
   "execution_count": 122,
   "metadata": {
    "collapsed": true
   },
   "outputs": [],
   "source": [
    "# geo_source.geojson"
   ]
  },
  {
   "cell_type": "code",
   "execution_count": null,
   "metadata": {},
   "outputs": [],
   "source": []
  },
  {
   "cell_type": "code",
   "execution_count": null,
   "metadata": {
    "collapsed": true
   },
   "outputs": [],
   "source": []
  }
 ],
 "metadata": {
  "kernelspec": {
   "display_name": "Python 3",
   "language": "python",
   "name": "python3"
  },
  "language_info": {
   "codemirror_mode": {
    "name": "ipython",
    "version": 3
   },
   "file_extension": ".py",
   "mimetype": "text/x-python",
   "name": "python",
   "nbconvert_exporter": "python",
   "pygments_lexer": "ipython3",
   "version": "3.6.1"
  }
 },
 "nbformat": 4,
 "nbformat_minor": 2
}
